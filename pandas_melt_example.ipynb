{
 "cells": [
  {
   "cell_type": "markdown",
   "metadata": {},
   "source": [
    "<p style=\"font-family: Arial; font-size:2.1em;color:#1234CC; font-style:bold\"><br> \n",
    "Example of Reshaping Pandas Data With Melt </p>"
   ]
  },
  {
   "cell_type": "markdown",
   "metadata": {},
   "source": [
    "<p>[Pandas](https://pandas.pydata.org/) is a python data analysis library and in this post, we will reshape pandas data with melt.</p>"
   ]
  },
  {
   "cell_type": "code",
   "execution_count": 1,
   "metadata": {},
   "outputs": [
    {
     "name": "stdout",
     "output_type": "stream",
     "text": [
      "{'Feb-2010': [45, 43], 'Jan-2010': [30, 32], 'Mar-2010': [24, 22], 'location': ['CityA', 'CityB'], 'Temperature': ['Predict', 'Actual']}\n"
     ]
    }
   ],
   "source": [
    "import pandas as pd\n",
    "data = {\n",
    "    \"location\":['CityA', 'CityB'],   \n",
    "    \"Temperature\" : [\"Predict\", \"Actual\"],\n",
    "    \"Jan-2010\":[30, 32],\n",
    "    \"Feb-2010\":[45, 43],\n",
    "    \"Mar-2010\":[24, 22]\n",
    "}\n",
    "print(data)"
   ]
  },
  {
   "cell_type": "markdown",
   "metadata": {},
   "source": [
    "Above Data is a collection of  average Temperature of 2 cities **CityA** and **CityB** in months of _Jan_, _Feb_ & _Mar_.\n",
    "\n",
    "<p style=\"font-family:Arial; font-size:1.25em; color:#1234CC; font-style:bold\"><br>\n",
    "Create a pandas dataframe</p>\n",
    "\n",
    "Let's create a pandas DataFrame object so we could perform our operations on the data."
   ]
  },
  {
   "cell_type": "code",
   "execution_count": 2,
   "metadata": {},
   "outputs": [
    {
     "name": "stdout",
     "output_type": "stream",
     "text": [
      "  location Temperature  Jan-2010  Feb-2010  Mar-2010\n",
      "0    CityA     Predict        30        45        24\n",
      "1    CityB      Actual        32        43        22\n"
     ]
    }
   ],
   "source": [
    "df = pd.DataFrame(data, columns=['location', 'Temperature','Jan-2010', 'Feb-2010', 'Mar-2010'])\n",
    "print(df)"
   ]
  },
  {
   "cell_type": "markdown",
   "metadata": {},
   "source": [
    "<p style=\"font-family:Arial; font-size:1.25em; font-style:bold; color:#1234CC\"><br>\n",
    "Reshape DataFrame for better Analysis.</p>\n",
    "\n",
    "<p>This Data is currently in a human readable form, as there is a row for each location, and a separate column for Temparture in specific months; but is not good for analysis as; if we wanted to create use ‘groupby‘ operations or begin to normalise this dataframe to we would need to do some reshaping.\n",
    "\n",
    "Let's reshape the dataframe to have a column containing location, and another column to contain Temperature information.</p>"
   ]
  },
  {
   "cell_type": "code",
   "execution_count": 3,
   "metadata": {},
   "outputs": [
    {
     "name": "stdout",
     "output_type": "stream",
     "text": [
      "  location Temperature      Date  Value\n",
      "0    CityA     Predict  Jan-2010     30\n",
      "1    CityB      Actual  Jan-2010     32\n",
      "2    CityA     Predict  Feb-2010     45\n",
      "3    CityB      Actual  Feb-2010     43\n",
      "4    CityA     Predict  Mar-2010     24\n",
      "5    CityB      Actual  Mar-2010     22\n"
     ]
    }
   ],
   "source": [
    "df2 = pd.melt(df, id_vars=[\"location\", \"Temperature\"], var_name=\"Date\", value_name=\"Value\")\n",
    "print(df2)"
   ]
  },
  {
   "cell_type": "markdown",
   "metadata": {},
   "source": [
    "<p style=\"font-family:Arial; font-size:1.2em; font-style:bold; color:#1234CC\"><br>\n",
    "Sort the data</p>\n",
    "\n",
    "To sort the data we may use `pandas.DataFrame.sort_values(column_list)` & pass the list of columns to it."
   ]
  },
  {
   "cell_type": "code",
   "execution_count": 4,
   "metadata": {},
   "outputs": [
    {
     "name": "stdout",
     "output_type": "stream",
     "text": [
      "  location Temperature      Date  Value\n",
      "0    CityA     Predict  Jan-2010     30\n",
      "2    CityA     Predict  Feb-2010     45\n",
      "4    CityA     Predict  Mar-2010     24\n",
      "1    CityB      Actual  Jan-2010     32\n",
      "3    CityB      Actual  Feb-2010     43\n",
      "5    CityB      Actual  Mar-2010     22\n"
     ]
    }
   ],
   "source": [
    "df_sorted = df2.sort_values([\"location\", \"Temperature\"])\n",
    "print(df_sorted)"
   ]
  },
  {
   "cell_type": "markdown",
   "metadata": {},
   "source": [
    "<p style=\"font-family:Arial; color:#1234CC; font-size:1.3em; font-style:bold\"><br>\n",
    "References:</p>\n",
    "\n",
    "* [pandas convert some columns into rows](https://stackoverflow.com/questions/28654047/pandas-convert-some-columns-into-rows)\n",
    "* [pandas melt library](https://pandas.pydata.org/pandas-docs/stable/generated/pandas.melt.html)"
   ]
  }
 ],
 "metadata": {
  "kernelspec": {
   "display_name": "Python 3",
   "language": "python",
   "name": "python3"
  },
  "language_info": {
   "codemirror_mode": {
    "name": "ipython",
    "version": 2
   },
   "file_extension": ".py",
   "mimetype": "text/x-python",
   "name": "python",
   "nbconvert_exporter": "python",
   "pygments_lexer": "ipython2",
   "version": "2.7.14"
  }
 },
 "nbformat": 4,
 "nbformat_minor": 2
}
